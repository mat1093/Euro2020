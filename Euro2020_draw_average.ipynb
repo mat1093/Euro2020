{
 "cells": [
  {
   "cell_type": "code",
   "execution_count": 1,
   "metadata": {},
   "outputs": [],
   "source": [
    "import pandas as pd\n",
    "from sklearn.preprocessing import MinMaxScaler\n",
    "from sklearn.preprocessing import StandardScaler\n",
    "from sklearn.linear_model import LogisticRegression\n",
    "from sklearn.model_selection import train_test_split\n",
    "from sklearn.metrics import classification_report\n"
   ]
  },
  {
   "cell_type": "code",
   "execution_count": 2,
   "metadata": {},
   "outputs": [],
   "source": [
    "Match_data=pd.read_excel('Match_data.xlsx')"
   ]
  },
  {
   "cell_type": "code",
   "execution_count": 3,
   "metadata": {},
   "outputs": [],
   "source": [
    "### Creating Exogenous variables data frame#\n",
    "X=Match_data[['FIFA_Points_Home','FIFA_Points_Away','Home_Elo rating','Away_Elo rating','1_Year_change-wins_home','1_Year_change-wins_away','1_Year_change-loss_home','1_Year_change-loss_away','1_Year_change-goals-home','1_Year_change-goals-away','1_Year_change-lost_goals-home','1_Year_change-lost_goals-away']]"
   ]
  },
  {
   "cell_type": "code",
   "execution_count": 4,
   "metadata": {},
   "outputs": [],
   "source": [
    "##Creating endogenous variable\n",
    "\n",
    "y=Match_data['Y']"
   ]
  },
  {
   "cell_type": "code",
   "execution_count": 5,
   "metadata": {},
   "outputs": [],
   "source": [
    "## Normalizing FIFA and ELO rating points\n",
    "X_to_normalize=X[['FIFA_Points_Home','FIFA_Points_Away','Home_Elo rating','Away_Elo rating']]\n",
    "X_without_normalize=X[['1_Year_change-wins_home','1_Year_change-wins_away','1_Year_change-loss_home','1_Year_change-loss_away','1_Year_change-goals-home','1_Year_change-goals-away','1_Year_change-lost_goals-home','1_Year_change-lost_goals-away']]\n",
    "scale=MinMaxScaler()\n",
    "X_norm=pd.DataFrame(scale.fit_transform(X_to_normalize),\n",
    "\n",
    "columns=X_to_normalize.columns, index=X_to_normalize.index)\n",
    "\n",
    "X=pd.concat([X_norm,X_without_normalize],axis=1)"
   ]
  },
  {
   "cell_type": "code",
   "execution_count": 6,
   "metadata": {},
   "outputs": [
    {
     "data": {
      "text/plain": [
       "LogisticRegression(C=1.0, class_weight=None, dual=False, fit_intercept=True,\n",
       "                   intercept_scaling=1, l1_ratio=None, max_iter=1000,\n",
       "                   multi_class='multinomial', n_jobs=None, penalty='none',\n",
       "                   random_state=None, solver='lbfgs', tol=0.0001, verbose=0,\n",
       "                   warm_start=False)"
      ]
     },
     "execution_count": 6,
     "metadata": {},
     "output_type": "execute_result"
    }
   ],
   "source": [
    "X_train, X_test, y_train, y_test = train_test_split(X, y, test_size=0.3)\n",
    "model=LogisticRegression(multi_class='multinomial', solver='lbfgs', penalty='none',max_iter=1000)\n",
    "model.fit(X_train, y_train)"
   ]
  },
  {
   "cell_type": "code",
   "execution_count": 7,
   "metadata": {},
   "outputs": [],
   "source": [
    "predictions=model.predict(X_test)"
   ]
  },
  {
   "cell_type": "code",
   "execution_count": 8,
   "metadata": {},
   "outputs": [],
   "source": [
    "logr_probs=model.predict_proba(X_test)"
   ]
  },
  {
   "cell_type": "code",
   "execution_count": 9,
   "metadata": {},
   "outputs": [],
   "source": [
    "Euro_predictions=pd.DataFrame(data=logr_probs, columns=['draw%','Team1-win%','Team2-win%']).round(decimals=3)"
   ]
  },
  {
   "cell_type": "code",
   "execution_count": 11,
   "metadata": {},
   "outputs": [],
   "source": [
    "Euro_predictions=Euro_predictions.apply(lambda x: x*100)"
   ]
  },
  {
   "cell_type": "code",
   "execution_count": 12,
   "metadata": {},
   "outputs": [],
   "source": [
    "Euro_predictions.to_excel('Euro_predictions1_test_Data.xlsx')"
   ]
  },
  {
   "cell_type": "code",
   "execution_count": null,
   "metadata": {},
   "outputs": [],
   "source": []
  }
 ],
 "metadata": {
  "kernelspec": {
   "display_name": "Python 3",
   "language": "python",
   "name": "python3"
  },
  "language_info": {
   "codemirror_mode": {
    "name": "ipython",
    "version": 3
   },
   "file_extension": ".py",
   "mimetype": "text/x-python",
   "name": "python",
   "nbconvert_exporter": "python",
   "pygments_lexer": "ipython3",
   "version": "3.7.6"
  }
 },
 "nbformat": 4,
 "nbformat_minor": 4
}
