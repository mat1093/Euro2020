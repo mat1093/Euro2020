{
 "cells": [
  {
   "cell_type": "code",
   "execution_count": 620,
   "metadata": {},
   "outputs": [],
   "source": [
    "import pandas as pd\n",
    "from sklearn import preprocessing\n",
    "from sklearn.preprocessing import MinMaxScaler\n",
    "from sklearn.preprocessing import StandardScaler\n",
    "import statsmodels.api as sm\n",
    "from sklearn.metrics import auc\n",
    "from sklearn.metrics import roc_curve\n",
    "import sklearn.metrics as skm\n",
    "import matplotlib.pyplot as plt\n",
    "%matplotlib inline\n",
    "from sklearn.model_selection import cross_val_score\n",
    "from sklearn.model_selection import RepeatedStratifiedKFold\n",
    "import numpy as np\n",
    "from sklearn.linear_model import LogisticRegression\n",
    "from sklearn.model_selection import train_test_split"
   ]
  },
  {
   "cell_type": "code",
   "execution_count": 622,
   "metadata": {},
   "outputs": [],
   "source": [
    "df=pd.read_excel(\"Euro2020new.xlsx\")\n",
    "Match_data=pd.read_excel('Match_data.xlsx')"
   ]
  },
  {
   "cell_type": "code",
   "execution_count": null,
   "metadata": {},
   "outputs": [],
   "source": [
    "##creating function that will calculate result of game\n",
    "def result(cols):\n",
    "    homescore=cols[0]\n",
    "    awayscore=cols[1]\n",
    "    \n",
    "    if homescore>awayscore:\n",
    "        return 'win'\n",
    "    elif homescore<awayscore:\n",
    "        return 'loss'\n",
    "    elif homescore==awayscore:\n",
    "        return'draw'"
   ]
  },
  {
   "cell_type": "code",
   "execution_count": null,
   "metadata": {},
   "outputs": [],
   "source": [
    "def result1(cols):\n",
    "    outcome=cols\n",
    "    \n",
    "    \n",
    "    if outcome=='win':\n",
    "        return '1'\n",
    "    elif outcome=='loss':\n",
    "        return '2'\n",
    "    elif outcome=='draw':\n",
    "        return '0'"
   ]
  },
  {
   "cell_type": "code",
   "execution_count": 16,
   "metadata": {},
   "outputs": [],
   "source": [
    "for i in range(len(df)):# calculating goals for/against, Wins/losses in previous year\n",
    "    if df['Year'].iloc[i]>=2008:\n",
    "        team=df['Team'].iloc[i]\n",
    "        year=df['Year'].iloc[i]\n",
    "      \n",
    "        goalsf=df['Goals For'].iloc[i]- df[(df['Team']==team) & (df['Year']==year-1)]['Goals For']\n",
    "        goalsa=df['Goals Against'].iloc[i]- df[(df['Team']==team) & (df['Year']==year-1)]['Goals Against']\n",
    "        Wins=df['W'].iloc[i]- df[(df['Team']==team) & (df['Year']==year-1)]['W']\n",
    "        Losses=df['L'].iloc[i]- df[(df['Team']==team) & (df['Year']==year-1)]['L']\n",
    "        if not df[(df['Team']==team) & (df['Year']==year-1)]['Team'].empty:\n",
    "            df.loc[i,'1_Year_change-goals']=goalsf.values\n",
    "            df.loc[i,'1_Year_change-goalsa']=goalsa.values\n",
    "            df.loc[i,'1_Year_change-W']=Wins.values\n",
    "            df.loc[i,'1_Year_change-L']=Losses.values"
   ]
  },
  {
   "cell_type": "code",
   "execution_count": 10,
   "metadata": {},
   "outputs": [
    {
     "name": "stderr",
     "output_type": "stream",
     "text": [
      "C:\\Users\\mkepa\\anaconda3\\lib\\site-packages\\ipykernel_launcher.py:1: RuntimeWarning: invalid value encountered in double_scalars\n",
      "  \"\"\"Entry point for launching an IPython kernel.\n"
     ]
    }
   ],
   "source": [
    "df['Win/loss ratio']=df[['1_Year_change-W','1_Year_change-L']].apply(lambda x: x['1_Year_change-W']/(x['1_Year_change-W']+x['1_Year_change-L']),axis=1)"
   ]
  },
  {
   "cell_type": "code",
   "execution_count": 22,
   "metadata": {},
   "outputs": [],
   "source": [
    "df['Goals Difference']=df[['1_Year_change-goals','1_Year_change-goalsa']].apply(lambda x: x['1_Year_change-goals']-x['1_Year_change-goalsa'],axis=1)"
   ]
  },
  {
   "cell_type": "code",
   "execution_count": 27,
   "metadata": {},
   "outputs": [],
   "source": [
    "df.drop(df[df.Year==2007].index,inplace=True)"
   ]
  },
  {
   "cell_type": "code",
   "execution_count": 30,
   "metadata": {},
   "outputs": [],
   "source": [
    "df.reset_index(drop=True, inplace=True)"
   ]
  },
  {
   "cell_type": "code",
   "execution_count": 16,
   "metadata": {},
   "outputs": [],
   "source": [
    "##changing Country names to match ELO rating file\n",
    "Match_data['Home_Team']=Match_data['Home_Team'].replace(['Czech Republic','North. Ireland','Rep. of Ireland','Bosnia & Herzegovina','U.A.E.','C?te d`Ivoire','Trinidad & Tobago'],\n",
    "                                ['Czechia','Northern Ireland','Ireland','Bosnia and Herzegovina','United Arab Emirates','Ivory Coast','Trinidad and Tobago'])\n",
    "\n",
    "Match_data['Away_Team']=Match_data['Away_Team'].replace(['Czech Republic','North. Ireland','Rep. of Ireland','Bosnia & Herzegovina','U.A.E.','C?te d`Ivoire','Trinidad & Tobago','Romana','Rep. Of Ireland'],\n",
    "                                ['Czechia','Northern Ireland','Ireland','Bosnia and Herzegovina','United Arab Emirates','Ivory Coast','Trinidad and Tobago','Romania','Ireland'])"
   ]
  },
  {
   "cell_type": "code",
   "execution_count": 49,
   "metadata": {},
   "outputs": [],
   "source": [
    "Match_data['Date']=pd.to_datetime(Match_data['Date'])## adding column with year\n",
    "Match_data['Year']=Match_data['Date'].apply(lambda time: time.year)"
   ]
  },
  {
   "cell_type": "code",
   "execution_count": 51,
   "metadata": {},
   "outputs": [],
   "source": [
    "Match_data.drop('Date',inplace=True,axis=1)"
   ]
  },
  {
   "cell_type": "code",
   "execution_count": 85,
   "metadata": {},
   "outputs": [],
   "source": [
    "for i in range(len(Match_data)):## Adding ELO rating,1_Year_change-goals,1_Year_change-goalsa,Goals Difference,Win/loss ratio to match data\n",
    "    home=Match_data['Home_Team'].iloc[i]\n",
    "    away=Match_data['Away_Team'].iloc[i]\n",
    "    year=Match_data['Year'].iloc[i]\n",
    "    \n",
    "    homeR=df[(df['Team']==home) & (df['Year']==year)]['R']\n",
    "    awayR=df[(df['Team']==away) & (df['Year']==year)]['R']\n",
    "    homeg=df[(df['Team']==home) & (df['Year']==year)]['1_Year_change-goals']\n",
    "    awayg=df[(df['Team']==away) & (df['Year']==year)]['1_Year_change-goals']\n",
    "    homelg=df[(df['Team']==home) & (df['Year']==year)]['1_Year_change-goalsa']\n",
    "    awaylg=df[(df['Team']==away) & (df['Year']==year)]['1_Year_change-goalsa']\n",
    "    goalsdiffhome=df[(df['Team']==home) & (df['Year']==year)]['Goals Difference']\n",
    "    goalsdiffaway=df[(df['Team']==away) & (df['Year']==year)]['Goals Difference']\n",
    "    winlosth=df[(df['Team']==home) & (df['Year']==year)]['Win/loss ratio']\n",
    "    winlosta=df[(df['Team']==away) & (df['Year']==year)]['Win/loss ratio']\n",
    "\n",
    "    \n",
    "    Match_data.loc[i,'Home_Elo rating']=homeR.values\n",
    "    Match_data.loc[i,'Away_Elo rating']=awayR.values\n",
    "    Match_data.loc[i,'1_Year_change-goals-home']=homeg.values\n",
    "    Match_data.loc[i,'1_Year_change-goals-away']=awayg.values\n",
    "    Match_data.loc[i,'1_Year_change-lost_goals-home']=homelg.values\n",
    "    Match_data.loc[i,'1_Year_change-lost_goals-away']=awaylg.values\n",
    "    Match_data.loc[i,'Goals_diff_home']=goalsdiffhome.values\n",
    "    Match_data.loc[i,'Goals_diff_away']=goalsdiffaway.values\n",
    "    Match_data.loc[i,'Win/loss ratio-home_team']=winlosth.values\n",
    "    Match_data.loc[i,'Win/loss ratio-away_team']=winlosta.values\n",
    "   "
   ]
  },
  {
   "cell_type": "code",
   "execution_count": 32,
   "metadata": {},
   "outputs": [],
   "source": [
    "gdp=pd.read_excel('GDP.xlsx')"
   ]
  },
  {
   "cell_type": "code",
   "execution_count": 88,
   "metadata": {},
   "outputs": [],
   "source": [
    "for i in range(len(Match_data)):## Adding GDP  to match data\n",
    "    \n",
    "    home=Match_data['Home_Team'].iloc[i]\n",
    "    away=Match_data['Away_Team'].iloc[i]\n",
    "    year=str(Match_data['Year'].iloc[i])\n",
    "    homeGDP=gdp[gdp['Country Name']==home][year]\n",
    "    awayGDP=gdp[gdp['Country Name']==away][year]\n",
    "    if not gdp[gdp['Country Name']==home][year].empty:\n",
    "        Match_data.loc[i,'Home_GDP']=homeGDP.values\n",
    "       \n",
    "    if not gdp[gdp['Country Name']==away][year].empty:\n",
    "        Match_data.loc[i,'Away_GDP']=awayGDP.values\n",
    "        \n",
    "    "
   ]
  },
  {
   "cell_type": "code",
   "execution_count": 4,
   "metadata": {},
   "outputs": [
    {
     "data": {
      "text/plain": [
       "4.39297124600639"
      ]
     },
     "execution_count": 4,
     "metadata": {},
     "output_type": "execute_result"
    }
   ],
   "source": [
    "Match_data['Home_GDP'].isna().sum()/Match_data.shape[0]*100 ##percantege of nill values in Home GDP"
   ]
  },
  {
   "cell_type": "code",
   "execution_count": 17,
   "metadata": {},
   "outputs": [],
   "source": [
    "Match_data['Home_GDP']=Match_data['Home_GDP'].fillna(Match_data['Home_GDP'].mean())##filling nill GDP with mean\n",
    "Match_data['Away_GDP']=Match_data['Away_GDP'].fillna(Match_data['Away_GDP'].mean())"
   ]
  },
  {
   "cell_type": "code",
   "execution_count": 6,
   "metadata": {},
   "outputs": [
    {
     "data": {
      "text/plain": [
       "0"
      ]
     },
     "execution_count": 6,
     "metadata": {},
     "output_type": "execute_result"
    }
   ],
   "source": [
    "Match_data['Home_GDP'].isna().sum()"
   ]
  },
  {
   "cell_type": "code",
   "execution_count": 55,
   "metadata": {},
   "outputs": [],
   "source": [
    "##adding win/loss/draw based on result\n",
    "Match_data['Result']=Match_data[['Home_score','Away_Score']].apply(result,axis=1)"
   ]
  },
  {
   "cell_type": "code",
   "execution_count": 591,
   "metadata": {},
   "outputs": [],
   "source": [
    "###adding 1-win team A,0-draw,2-win team B \n",
    "Match_data['Y']=Match_data['Result'].apply(result1)\n"
   ]
  },
  {
   "cell_type": "code",
   "execution_count": 642,
   "metadata": {},
   "outputs": [],
   "source": [
    "\n",
    "### Creating Exogenous variables data frame#\n",
    "X=Match_data[['FIFA_Points_Home','FIFA_Points_Away','Home_Elo rating','Away_Elo rating','1_Year_change-wins_home','1_Year_change-wins_away','1_Year_change-loss_home','1_Year_change-loss_away','1_Year_change-goals-home','1_Year_change-goals-away','1_Year_change-lost_goals-home','1_Year_change-lost_goals-away']]"
   ]
  },
  {
   "cell_type": "code",
   "execution_count": 643,
   "metadata": {},
   "outputs": [],
   "source": [
    "##Creating endogenous variable\n",
    "\n",
    "y=Match_data['Y']\n"
   ]
  },
  {
   "cell_type": "code",
   "execution_count": 644,
   "metadata": {},
   "outputs": [],
   "source": [
    "## Normalizing FIFA and ELO rating points\n",
    "X_to_normalize=X[['FIFA_Points_Home','FIFA_Points_Away','Home_Elo rating','Away_Elo rating']]\n",
    "X_without_normalize=X[['1_Year_change-wins_home','1_Year_change-wins_away','1_Year_change-loss_home','1_Year_change-loss_away','1_Year_change-goals-home','1_Year_change-goals-away','1_Year_change-lost_goals-home','1_Year_change-lost_goals-away']]\n",
    "scale=MinMaxScaler()\n",
    "X_norm=pd.DataFrame(scale.fit_transform(X_to_normalize),\n",
    "\n",
    "columns=X_to_normalize.columns, index=X_to_normalize.index)\n",
    "\n",
    "X=pd.concat([X_norm,X_without_normalize],axis=1)"
   ]
  },
  {
   "cell_type": "code",
   "execution_count": 466,
   "metadata": {},
   "outputs": [],
   "source": [
    "## creating model to check which variables are irrelevant\n",
    "model = sm.Logit(y, X)"
   ]
  },
  {
   "cell_type": "code",
   "execution_count": 467,
   "metadata": {},
   "outputs": [
    {
     "name": "stdout",
     "output_type": "stream",
     "text": [
      "Optimization terminated successfully.\n",
      "         Current function value: 0.528473\n",
      "         Iterations 6\n"
     ]
    }
   ],
   "source": [
    "result = model.fit(method='newton')"
   ]
  },
  {
   "cell_type": "code",
   "execution_count": 468,
   "metadata": {},
   "outputs": [
    {
     "data": {
      "text/plain": [
       "FIFA_Points_Home                 1.495066\n",
       "FIFA_Points_Away                -1.801165\n",
       "Home_Elo rating                  4.561689\n",
       "Away_Elo rating                 -5.308379\n",
       "1_Year_change-wins_home         -0.511012\n",
       "1_Year_change-wins_away          2.061539\n",
       "1_Year_change-loss_home          0.738626\n",
       "1_Year_change-loss_away         -0.394149\n",
       "1_Year_change-goals-home         0.542848\n",
       "1_Year_change-goals-away        -1.594626\n",
       "1_Year_change-lost_goals-home   -0.798526\n",
       "1_Year_change-lost_goals-away    0.917891\n",
       "dtype: float64"
      ]
     },
     "execution_count": 468,
     "metadata": {},
     "output_type": "execute_result"
    }
   ],
   "source": [
    "result.params"
   ]
  },
  {
   "cell_type": "code",
   "execution_count": 469,
   "metadata": {},
   "outputs": [
    {
     "data": {
      "text/html": [
       "<table class=\"simpletable\">\n",
       "<caption>Logit Regression Results</caption>\n",
       "<tr>\n",
       "  <th>Dep. Variable:</th>        <td>Result4</td>     <th>  No. Observations:  </th>   <td>  2496</td>  \n",
       "</tr>\n",
       "<tr>\n",
       "  <th>Model:</th>                 <td>Logit</td>      <th>  Df Residuals:      </th>   <td>  2484</td>  \n",
       "</tr>\n",
       "<tr>\n",
       "  <th>Method:</th>                 <td>MLE</td>       <th>  Df Model:          </th>   <td>    11</td>  \n",
       "</tr>\n",
       "<tr>\n",
       "  <th>Date:</th>            <td>Thu, 10 Jun 2021</td> <th>  Pseudo R-squ.:     </th>   <td>0.2300</td>  \n",
       "</tr>\n",
       "<tr>\n",
       "  <th>Time:</th>                <td>00:16:08</td>     <th>  Log-Likelihood:    </th>  <td> -1319.1</td> \n",
       "</tr>\n",
       "<tr>\n",
       "  <th>converged:</th>             <td>True</td>       <th>  LL-Null:           </th>  <td> -1713.0</td> \n",
       "</tr>\n",
       "<tr>\n",
       "  <th>Covariance Type:</th>     <td>nonrobust</td>    <th>  LLR p-value:       </th> <td>7.817e-162</td>\n",
       "</tr>\n",
       "</table>\n",
       "<table class=\"simpletable\">\n",
       "<tr>\n",
       "                <td></td>                   <th>coef</th>     <th>std err</th>      <th>z</th>      <th>P>|z|</th>  <th>[0.025</th>    <th>0.975]</th>  \n",
       "</tr>\n",
       "<tr>\n",
       "  <th>FIFA_Points_Home</th>              <td>    1.4951</td> <td>    0.363</td> <td>    4.122</td> <td> 0.000</td> <td>    0.784</td> <td>    2.206</td>\n",
       "</tr>\n",
       "<tr>\n",
       "  <th>FIFA_Points_Away</th>              <td>   -1.8012</td> <td>    0.363</td> <td>   -4.960</td> <td> 0.000</td> <td>   -2.513</td> <td>   -1.089</td>\n",
       "</tr>\n",
       "<tr>\n",
       "  <th>Home_Elo rating</th>               <td>    4.5617</td> <td>    0.518</td> <td>    8.815</td> <td> 0.000</td> <td>    3.547</td> <td>    5.576</td>\n",
       "</tr>\n",
       "<tr>\n",
       "  <th>Away_Elo rating</th>               <td>   -5.3084</td> <td>    0.529</td> <td>  -10.032</td> <td> 0.000</td> <td>   -6.345</td> <td>   -4.271</td>\n",
       "</tr>\n",
       "<tr>\n",
       "  <th>1_Year_change-wins_home</th>       <td>   -0.5110</td> <td>    0.628</td> <td>   -0.813</td> <td> 0.416</td> <td>   -1.742</td> <td>    0.720</td>\n",
       "</tr>\n",
       "<tr>\n",
       "  <th>1_Year_change-wins_away</th>       <td>    2.0615</td> <td>    0.670</td> <td>    3.075</td> <td> 0.002</td> <td>    0.747</td> <td>    3.376</td>\n",
       "</tr>\n",
       "<tr>\n",
       "  <th>1_Year_change-loss_home</th>       <td>    0.7386</td> <td>    0.517</td> <td>    1.429</td> <td> 0.153</td> <td>   -0.275</td> <td>    1.752</td>\n",
       "</tr>\n",
       "<tr>\n",
       "  <th>1_Year_change-loss_away</th>       <td>   -0.3941</td> <td>    0.491</td> <td>   -0.802</td> <td> 0.423</td> <td>   -1.357</td> <td>    0.569</td>\n",
       "</tr>\n",
       "<tr>\n",
       "  <th>1_Year_change-goals-home</th>      <td>    0.5428</td> <td>    0.713</td> <td>    0.761</td> <td> 0.447</td> <td>   -0.855</td> <td>    1.941</td>\n",
       "</tr>\n",
       "<tr>\n",
       "  <th>1_Year_change-goals-away</th>      <td>   -1.5946</td> <td>    0.765</td> <td>   -2.084</td> <td> 0.037</td> <td>   -3.094</td> <td>   -0.095</td>\n",
       "</tr>\n",
       "<tr>\n",
       "  <th>1_Year_change-lost_goals-home</th> <td>   -0.7985</td> <td>    0.670</td> <td>   -1.192</td> <td> 0.233</td> <td>   -2.112</td> <td>    0.515</td>\n",
       "</tr>\n",
       "<tr>\n",
       "  <th>1_Year_change-lost_goals-away</th> <td>    0.9179</td> <td>    0.695</td> <td>    1.320</td> <td> 0.187</td> <td>   -0.445</td> <td>    2.280</td>\n",
       "</tr>\n",
       "</table>"
      ],
      "text/plain": [
       "<class 'statsmodels.iolib.summary.Summary'>\n",
       "\"\"\"\n",
       "                           Logit Regression Results                           \n",
       "==============================================================================\n",
       "Dep. Variable:                Result4   No. Observations:                 2496\n",
       "Model:                          Logit   Df Residuals:                     2484\n",
       "Method:                           MLE   Df Model:                           11\n",
       "Date:                Thu, 10 Jun 2021   Pseudo R-squ.:                  0.2300\n",
       "Time:                        00:16:08   Log-Likelihood:                -1319.1\n",
       "converged:                       True   LL-Null:                       -1713.0\n",
       "Covariance Type:            nonrobust   LLR p-value:                7.817e-162\n",
       "=================================================================================================\n",
       "                                    coef    std err          z      P>|z|      [0.025      0.975]\n",
       "-------------------------------------------------------------------------------------------------\n",
       "FIFA_Points_Home                  1.4951      0.363      4.122      0.000       0.784       2.206\n",
       "FIFA_Points_Away                 -1.8012      0.363     -4.960      0.000      -2.513      -1.089\n",
       "Home_Elo rating                   4.5617      0.518      8.815      0.000       3.547       5.576\n",
       "Away_Elo rating                  -5.3084      0.529    -10.032      0.000      -6.345      -4.271\n",
       "1_Year_change-wins_home          -0.5110      0.628     -0.813      0.416      -1.742       0.720\n",
       "1_Year_change-wins_away           2.0615      0.670      3.075      0.002       0.747       3.376\n",
       "1_Year_change-loss_home           0.7386      0.517      1.429      0.153      -0.275       1.752\n",
       "1_Year_change-loss_away          -0.3941      0.491     -0.802      0.423      -1.357       0.569\n",
       "1_Year_change-goals-home          0.5428      0.713      0.761      0.447      -0.855       1.941\n",
       "1_Year_change-goals-away         -1.5946      0.765     -2.084      0.037      -3.094      -0.095\n",
       "1_Year_change-lost_goals-home    -0.7985      0.670     -1.192      0.233      -2.112       0.515\n",
       "1_Year_change-lost_goals-away     0.9179      0.695      1.320      0.187      -0.445       2.280\n",
       "=================================================================================================\n",
       "\"\"\""
      ]
     },
     "execution_count": 469,
     "metadata": {},
     "output_type": "execute_result"
    }
   ],
   "source": [
    "result.summary()"
   ]
  },
  {
   "cell_type": "code",
   "execution_count": 626,
   "metadata": {},
   "outputs": [],
   "source": [
    "## creating function that evaluates optimal l2 penalty value\n",
    "def get_models():\n",
    "    models = dict()\n",
    "    for p in [0.0, 0.0001, 0.001, 0.01, 0.1, 1.0]:\n",
    "        # create name for model\n",
    "        key = '%.4f' % p\n",
    "        # turn off penalty in some cases\n",
    "        if p == 0.0:\n",
    "            # no penalty in this case\n",
    "            models[key] = LogisticRegression(multi_class='multinomial', solver='lbfgs', penalty='none')\n",
    "        else:\n",
    "            models[key] = LogisticRegression(multi_class='multinomial', solver='lbfgs', penalty='l2', C=p)\n",
    "    return models"
   ]
  },
  {
   "cell_type": "code",
   "execution_count": 627,
   "metadata": {},
   "outputs": [],
   "source": [
    "models = get_models()\n",
    "results, names = list(), list()\n",
    "\n",
    "def evaluate_model(model, X, y):\n",
    "    # define the evaluation procedure\n",
    "    cv = RepeatedStratifiedKFold(n_splits=10, n_repeats=3, random_state=1)\n",
    "    # evaluate the model\n",
    "    scores = cross_val_score(model, X, y, scoring='accuracy', cv=cv, n_jobs=-1)\n",
    "    return scores"
   ]
  },
  {
   "cell_type": "code",
   "execution_count": 628,
   "metadata": {},
   "outputs": [
    {
     "name": "stdout",
     "output_type": "stream",
     "text": [
      ">0.0000 0.591 (0.023)\n",
      ">0.0001 0.545 (0.027)\n",
      ">0.0010 0.547 (0.028)\n",
      ">0.0100 0.559 (0.029)\n",
      ">0.1000 0.585 (0.019)\n",
      ">1.0000 0.589 (0.022)\n"
     ]
    },
    {
     "data": {
      "image/png": "[encoded data removed]",
      "text/plain": [
       "<Figure size 432x288 with 1 Axes>"
      ]
     },
     "metadata": {
      "needs_background": "light"
     },
     "output_type": "display_data"
    }
   ],
   "source": [
    "for name, model in models.items():\n",
    "    # evaluate the model and collect the scores\n",
    "    scores = evaluate_model(model, X, y)\n",
    "    # store the results\n",
    "    results.append(scores)\n",
    "    names.append(name)\n",
    "    # summarize progress along the way\n",
    "    print('>%s %.3f (%.3f)' % (name, np.mean(scores), np.std(scores)))\n",
    "# plot model performance for comparison\n",
    "plt.boxplot(results, labels=names, showmeans=True)\n",
    "plt.show()"
   ]
  },
  {
   "cell_type": "code",
   "execution_count": 676,
   "metadata": {},
   "outputs": [
    {
     "data": {
      "text/plain": [
       "LogisticRegression(C=1.0, class_weight=None, dual=False, fit_intercept=True,\n",
       "                   intercept_scaling=1, l1_ratio=None, max_iter=1000,\n",
       "                   multi_class='multinomial', n_jobs=None, penalty='none',\n",
       "                   random_state=None, solver='lbfgs', tol=0.0001, verbose=0,\n",
       "                   warm_start=False)"
      ]
     },
     "execution_count": 676,
     "metadata": {},
     "output_type": "execute_result"
    }
   ],
   "source": [
    "X_train, X_test, y_train, y_test = train_test_split(X, y, test_size=0.3, random_state=101)\n",
    "model=LogisticRegression(multi_class='multinomial', solver='lbfgs', penalty='none',max_iter=1000)\n",
    "model.fit(X_train, y_train)\n"
   ]
  },
  {
   "cell_type": "code",
   "execution_count": 677,
   "metadata": {},
   "outputs": [],
   "source": [
    "predictions=model.predict(X_test)"
   ]
  },
  {
   "cell_type": "code",
   "execution_count": 678,
   "metadata": {},
   "outputs": [
    {
     "name": "stdout",
     "output_type": "stream",
     "text": [
      "              precision    recall  f1-score   support\n",
      "\n",
      "           0       0.83      0.03      0.06       163\n",
      "           1       0.63      0.82      0.71       325\n",
      "           2       0.61      0.74      0.67       261\n",
      "\n",
      "    accuracy                           0.62       749\n",
      "   macro avg       0.69      0.53      0.48       749\n",
      "weighted avg       0.67      0.62      0.55       749\n",
      "\n"
     ]
    }
   ],
   "source": [
    "print(classification_report(y_test,predictions))"
   ]
  },
  {
   "cell_type": "code",
   "execution_count": 679,
   "metadata": {},
   "outputs": [
    {
     "data": {
      "text/plain": [
       "array([[  5,  90,  68],\n",
       "       [  1, 267,  57],\n",
       "       [  0,  68, 193]], dtype=int64)"
      ]
     },
     "execution_count": 679,
     "metadata": {},
     "output_type": "execute_result"
    }
   ],
   "source": [
    "confusion_matrix(y_test,predictions)## rows are actual values, columns predicted"
   ]
  },
  {
   "cell_type": "code",
   "execution_count": 680,
   "metadata": {},
   "outputs": [
    {
     "data": {
      "text/plain": [
       "1    325\n",
       "2    261\n",
       "0    163\n",
       "Name: Y, dtype: int64"
      ]
     },
     "execution_count": 680,
     "metadata": {},
     "output_type": "execute_result"
    }
   ],
   "source": [
    "y_test.value_counts()"
   ]
  },
  {
   "cell_type": "code",
   "execution_count": 681,
   "metadata": {},
   "outputs": [
    {
     "data": {
      "text/plain": [
       "0.5809959931310819"
      ]
     },
     "execution_count": 681,
     "metadata": {},
     "output_type": "execute_result"
    }
   ],
   "source": [
    "model.score(X_train,y_train)"
   ]
  },
  {
   "cell_type": "code",
   "execution_count": 682,
   "metadata": {},
   "outputs": [],
   "source": [
    "lr_probs=model.predict_proba(X_test)"
   ]
  },
  {
   "cell_type": "code",
   "execution_count": 683,
   "metadata": {},
   "outputs": [],
   "source": [
    "lr_probs0 = lr_probs[:,0]\n",
    "lr_probs1=lr_probs[:,1]\n",
    "lr_probs2=lr_probs[:,2]"
   ]
  },
  {
   "cell_type": "code",
   "execution_count": 684,
   "metadata": {},
   "outputs": [],
   "source": [
    "precision0, recall0, _ = skm.precision_recall_curve(y_test,lr_probs0,pos_label=0)\n",
    "precision1, recall1, _ = skm.precision_recall_curve(y_test,lr_probs1,pos_label=1)\n",
    "precision2, recall2, _ = skm.precision_recall_curve(y_test,lr_probs2,pos_label=2)"
   ]
  },
  {
   "cell_type": "code",
   "execution_count": 685,
   "metadata": {},
   "outputs": [
    {
     "data": {
      "image/png": "[encoded data removed]",
      "text/plain": [
       "<Figure size 720x432 with 1 Axes>"
      ]
     },
     "metadata": {
      "needs_background": "light"
     },
     "output_type": "display_data"
    }
   ],
   "source": [
    "plt.figure(figsize=(10,6))\n",
    "plt.plot(recall1, precision1,'b', label='class 1',linestyle='--',marker='.')\n",
    "plt.plot(recall2, precision2,'r', label='class 2',linestyle='--',marker='.')\n",
    "plt.xlabel('Recall')\n",
    "plt.ylabel('Precision')\n",
    "plt.legend(loc='best')\n",
    "plt.show()"
   ]
  },
  {
   "cell_type": "code",
   "execution_count": 686,
   "metadata": {},
   "outputs": [],
   "source": [
    "lr_auc1=auc(recall1, precision1)\n",
    "lr_auc2=auc(recall2, precision2)"
   ]
  },
  {
   "cell_type": "code",
   "execution_count": 687,
   "metadata": {},
   "outputs": [
    {
     "name": "stdout",
     "output_type": "stream",
     "text": [
      "0.7612392243803298 0.7510054575547354\n"
     ]
    }
   ],
   "source": [
    "print(lr_auc1,lr_auc2)\n"
   ]
  },
  {
   "cell_type": "code",
   "execution_count": 688,
   "metadata": {},
   "outputs": [],
   "source": [
    "## predicting Euro 2020 games results\n",
    "data_to_predict1=pd.read_excel(\"data_to_predict1.xlsx\")"
   ]
  },
  {
   "cell_type": "code",
   "execution_count": 689,
   "metadata": {},
   "outputs": [],
   "source": [
    "predict_data_normalize=data_to_predict1[['FIFA_Points_Home','FIFA_Points_Away','Home_Elo rating','Away_Elo rating']]\n",
    "predict_data_without_normalize=data_to_predict1[['1_Year_change-wins_home','1_Year_change-wins_away','1_Year_change-loss_home','1_Year_change-loss_away','1_Year_change-goals-home','1_Year_change-goals-away','1_Year_change-lost_goals-home','1_Year_change-lost_goals-away']]"
   ]
  },
  {
   "cell_type": "code",
   "execution_count": 690,
   "metadata": {},
   "outputs": [],
   "source": [
    "X_norm=pd.DataFrame(scale.fit_transform(predict_data_normalize),\n",
    "\n",
    "columns=predict_data_normalize.columns, index=predict_data_normalize.index)"
   ]
  },
  {
   "cell_type": "code",
   "execution_count": 691,
   "metadata": {},
   "outputs": [],
   "source": [
    "X_to_predict=pd.concat([X_norm,predict_data_without_normalize],axis=1)"
   ]
  },
  {
   "cell_type": "code",
   "execution_count": 692,
   "metadata": {},
   "outputs": [
    {
     "data": {
      "text/html": [
       "<div>\n",
       "<style scoped>\n",
       "    .dataframe tbody tr th:only-of-type {\n",
       "        vertical-align: middle;\n",
       "    }\n",
       "\n",
       "    .dataframe tbody tr th {\n",
       "        vertical-align: top;\n",
       "    }\n",
       "\n",
       "    .dataframe thead th {\n",
       "        text-align: right;\n",
       "    }\n",
       "</style>\n",
       "<table border=\"1\" class=\"dataframe\">\n",
       "  <thead>\n",
       "    <tr style=\"text-align: right;\">\n",
       "      <th></th>\n",
       "      <th>FIFA_Points_Home</th>\n",
       "      <th>FIFA_Points_Away</th>\n",
       "      <th>Home_Elo rating</th>\n",
       "      <th>Away_Elo rating</th>\n",
       "      <th>1_Year_change-wins_home</th>\n",
       "      <th>1_Year_change-wins_away</th>\n",
       "      <th>1_Year_change-loss_home</th>\n",
       "      <th>1_Year_change-loss_away</th>\n",
       "      <th>1_Year_change-goals-home</th>\n",
       "      <th>1_Year_change-goals-away</th>\n",
       "      <th>1_Year_change-lost_goals-home</th>\n",
       "      <th>1_Year_change-lost_goals-away</th>\n",
       "    </tr>\n",
       "  </thead>\n",
       "  <tbody>\n",
       "    <tr>\n",
       "      <th>0</th>\n",
       "      <td>0.320293</td>\n",
       "      <td>0.655257</td>\n",
       "      <td>0.339483</td>\n",
       "      <td>0.791513</td>\n",
       "      <td>1</td>\n",
       "      <td>5</td>\n",
       "      <td>2</td>\n",
       "      <td>0</td>\n",
       "      <td>12</td>\n",
       "      <td>17</td>\n",
       "      <td>14</td>\n",
       "      <td>2</td>\n",
       "    </tr>\n",
       "    <tr>\n",
       "      <th>1</th>\n",
       "      <td>0.479218</td>\n",
       "      <td>0.567237</td>\n",
       "      <td>0.479705</td>\n",
       "      <td>0.557196</td>\n",
       "      <td>5</td>\n",
       "      <td>0</td>\n",
       "      <td>1</td>\n",
       "      <td>4</td>\n",
       "      <td>7</td>\n",
       "      <td>8</td>\n",
       "      <td>4</td>\n",
       "      <td>12</td>\n",
       "    </tr>\n",
       "    <tr>\n",
       "      <th>2</th>\n",
       "      <td>0.628362</td>\n",
       "      <td>0.088020</td>\n",
       "      <td>0.660517</td>\n",
       "      <td>0.258303</td>\n",
       "      <td>5</td>\n",
       "      <td>5</td>\n",
       "      <td>2</td>\n",
       "      <td>3</td>\n",
       "      <td>14</td>\n",
       "      <td>10</td>\n",
       "      <td>7</td>\n",
       "      <td>10</td>\n",
       "    </tr>\n",
       "    <tr>\n",
       "      <th>3</th>\n",
       "      <td>1.000000</td>\n",
       "      <td>0.215159</td>\n",
       "      <td>1.000000</td>\n",
       "      <td>0.321033</td>\n",
       "      <td>6</td>\n",
       "      <td>2</td>\n",
       "      <td>1</td>\n",
       "      <td>3</td>\n",
       "      <td>19</td>\n",
       "      <td>10</td>\n",
       "      <td>8</td>\n",
       "      <td>14</td>\n",
       "    </tr>\n",
       "    <tr>\n",
       "      <th>4</th>\n",
       "      <td>0.762836</td>\n",
       "      <td>0.564792</td>\n",
       "      <td>0.725092</td>\n",
       "      <td>0.536900</td>\n",
       "      <td>5</td>\n",
       "      <td>2</td>\n",
       "      <td>2</td>\n",
       "      <td>5</td>\n",
       "      <td>13</td>\n",
       "      <td>14</td>\n",
       "      <td>4</td>\n",
       "      <td>20</td>\n",
       "    </tr>\n",
       "  </tbody>\n",
       "</table>\n",
       "</div>"
      ],
      "text/plain": [
       "   FIFA_Points_Home  FIFA_Points_Away  Home_Elo rating  Away_Elo rating  \\\n",
       "0          0.320293          0.655257         0.339483         0.791513   \n",
       "1          0.479218          0.567237         0.479705         0.557196   \n",
       "2          0.628362          0.088020         0.660517         0.258303   \n",
       "3          1.000000          0.215159         1.000000         0.321033   \n",
       "4          0.762836          0.564792         0.725092         0.536900   \n",
       "\n",
       "   1_Year_change-wins_home  1_Year_change-wins_away  1_Year_change-loss_home  \\\n",
       "0                        1                        5                        2   \n",
       "1                        5                        0                        1   \n",
       "2                        5                        5                        2   \n",
       "3                        6                        2                        1   \n",
       "4                        5                        2                        2   \n",
       "\n",
       "   1_Year_change-loss_away  1_Year_change-goals-home  \\\n",
       "0                        0                        12   \n",
       "1                        4                         7   \n",
       "2                        3                        14   \n",
       "3                        3                        19   \n",
       "4                        5                        13   \n",
       "\n",
       "   1_Year_change-goals-away  1_Year_change-lost_goals-home  \\\n",
       "0                        17                             14   \n",
       "1                         8                              4   \n",
       "2                        10                              7   \n",
       "3                        10                              8   \n",
       "4                        14                              4   \n",
       "\n",
       "   1_Year_change-lost_goals-away  \n",
       "0                              2  \n",
       "1                             12  \n",
       "2                             10  \n",
       "3                             14  \n",
       "4                             20  "
      ]
     },
     "execution_count": 692,
     "metadata": {},
     "output_type": "execute_result"
    }
   ],
   "source": [
    "X_to_predict.head()"
   ]
  },
  {
   "cell_type": "code",
   "execution_count": 694,
   "metadata": {},
   "outputs": [],
   "source": [
    "predictions=model.predict_proba(X_to_predict)"
   ]
  },
  {
   "cell_type": "code",
   "execution_count": 698,
   "metadata": {},
   "outputs": [],
   "source": [
    "Euro_predictions=pd.DataFrame(data=predictions, columns=['draw','Team1-win%','Team2-win%']).round(decimals=2)"
   ]
  },
  {
   "cell_type": "code",
   "execution_count": 709,
   "metadata": {},
   "outputs": [],
   "source": [
    "Euro_predictions=Euro_predictions.apply(lambda x : x*100,axis=1)"
   ]
  },
  {
   "cell_type": "code",
   "execution_count": 711,
   "metadata": {},
   "outputs": [],
   "source": [
    "Euro_predictions.to_excel('Euro_predictions.xlsx')"
   ]
  },
  {
   "cell_type": "code",
   "execution_count": null,
   "metadata": {},
   "outputs": [],
   "source": []
  }
 ],
 "metadata": {
  "kernelspec": {
   "display_name": "Python 3",
   "language": "python",
   "name": "python3"
  },
  "language_info": {
   "codemirror_mode": {
    "name": "ipython",
    "version": 3
   },
   "file_extension": ".py",
   "mimetype": "text/x-python",
   "name": "python",
   "nbconvert_exporter": "python",
   "pygments_lexer": "ipython3",
   "version": "3.7.6"
  }
 },
 "nbformat": 4,
 "nbformat_minor": 4
}
