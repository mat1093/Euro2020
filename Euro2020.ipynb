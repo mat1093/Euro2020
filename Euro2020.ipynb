{
 "cells": [
  {
   "cell_type": "code",
   "execution_count": 78,
   "metadata": {},
   "outputs": [],
   "source": [
    "import pandas as pd\n",
    "from sklearn import preprocessing\n",
    "from sklearn.preprocessing import MinMaxScaler\n",
    "from sklearn.preprocessing import StandardScaler\n",
    "import statsmodels.api as sm\n",
    "import sklearn.metrics as skm\n",
    "import matplotlib.pyplot as plt\n",
    "%matplotlib inline\n",
    "from sklearn.model_selection import cross_val_score\n",
    "from sklearn.model_selection import RepeatedStratifiedKFold\n",
    "import numpy as np\n",
    "from sklearn.linear_model import LogisticRegression\n",
    "from sklearn.model_selection import train_test_split\n",
    "from sklearn.metrics import classification_report\n",
    "from sklearn.metrics import confusion_matrix\n",
    "from sklearn.metrics import average_precision_score as aps\n",
    "from sklearn.preprocessing import label_binarize\n",
    "from sklearn.multiclass import OneVsRestClassifier\n",
    "from sklearn.metrics import roc_curve"
   ]
  },
  {
   "cell_type": "code",
   "execution_count": 2,
   "metadata": {},
   "outputs": [],
   "source": [
    "df=pd.read_excel(\"Euro2020new.xlsx\")\n",
    "Match_data=pd.read_excel('Match_data.xlsx')"
   ]
  },
  {
   "cell_type": "code",
   "execution_count": null,
   "metadata": {},
   "outputs": [],
   "source": [
    "##creating function that will calculate result of game\n",
    "def result(cols):\n",
    "    homescore=cols[0]\n",
    "    awayscore=cols[1]\n",
    "    \n",
    "    if homescore>awayscore:\n",
    "        return 'win'\n",
    "    elif homescore<awayscore:\n",
    "        return 'loss'\n",
    "    elif homescore==awayscore:\n",
    "        return'draw'"
   ]
  },
  {
   "cell_type": "code",
   "execution_count": null,
   "metadata": {},
   "outputs": [],
   "source": [
    "def result1(cols):\n",
    "    outcome=cols\n",
    "    \n",
    "    \n",
    "    if outcome=='win':\n",
    "        return '1'\n",
    "    elif outcome=='loss':\n",
    "        return '2'\n",
    "    elif outcome=='draw':\n",
    "        return '0'"
   ]
  },
  {
   "cell_type": "code",
   "execution_count": null,
   "metadata": {},
   "outputs": [],
   "source": [
    "Match_data['Date']=pd.to_datetime(Match_data['Date'])## adding column with year\n",
    "Match_data['Year']=Match_data['Date'].apply(lambda time: time.year)\n",
    "#Dropping old Date column\n",
    "Match_data.drop('Date',inplace=True,axis=1)"
   ]
  },
  {
   "cell_type": "code",
   "execution_count": 16,
   "metadata": {},
   "outputs": [],
   "source": [
    "for i in range(len(df)):# calculating goals for/against, Wins/losses in previous year\n",
    "    if df['Year'].iloc[i]>=2008:\n",
    "        team=df['Team'].iloc[i]\n",
    "        year=df['Year'].iloc[i]\n",
    "      \n",
    "        goalsf=df['Goals For'].iloc[i]- df[(df['Team']==team) & (df['Year']==year-1)]['Goals For']\n",
    "        goalsa=df['Goals Against'].iloc[i]- df[(df['Team']==team) & (df['Year']==year-1)]['Goals Against']\n",
    "        Wins=df['W'].iloc[i]- df[(df['Team']==team) & (df['Year']==year-1)]['W']\n",
    "        Losses=df['L'].iloc[i]- df[(df['Team']==team) & (df['Year']==year-1)]['L']\n",
    "        if not df[(df['Team']==team) & (df['Year']==year-1)]['Team'].empty:\n",
    "            df.loc[i,'1_Year_change-goals']=goalsf.values\n",
    "            df.loc[i,'1_Year_change-goalsa']=goalsa.values\n",
    "            df.loc[i,'1_Year_change-W']=Wins.values\n",
    "            df.loc[i,'1_Year_change-L']=Losses.values"
   ]
  },
  {
   "cell_type": "code",
   "execution_count": 10,
   "metadata": {},
   "outputs": [
    {
     "name": "stderr",
     "output_type": "stream",
     "text": [
      "C:\\Users\\mkepa\\anaconda3\\lib\\site-packages\\ipykernel_launcher.py:1: RuntimeWarning: invalid value encountered in double_scalars\n",
      "  \"\"\"Entry point for launching an IPython kernel.\n"
     ]
    }
   ],
   "source": [
    "df['Win/loss ratio']=df[['1_Year_change-W','1_Year_change-L']].apply(lambda x: x['1_Year_change-W']/(x['1_Year_change-W']+x['1_Year_change-L']),axis=1)"
   ]
  },
  {
   "cell_type": "code",
   "execution_count": 22,
   "metadata": {},
   "outputs": [],
   "source": [
    "df['Goals Difference']=df[['1_Year_change-goals','1_Year_change-goalsa']].apply(lambda x: x['1_Year_change-goals']-x['1_Year_change-goalsa'],axis=1)"
   ]
  },
  {
   "cell_type": "code",
   "execution_count": 27,
   "metadata": {},
   "outputs": [],
   "source": [
    "df.drop(df[df.Year==2007].index,inplace=True)"
   ]
  },
  {
   "cell_type": "code",
   "execution_count": 30,
   "metadata": {},
   "outputs": [],
   "source": [
    "df.reset_index(drop=True, inplace=True)"
   ]
  },
  {
   "cell_type": "code",
   "execution_count": 16,
   "metadata": {},
   "outputs": [],
   "source": [
    "##changing Country names to match ELO rating file\n",
    "Match_data['Home_Team']=Match_data['Home_Team'].replace(['Czech Republic','North. Ireland','Rep. of Ireland','Bosnia & Herzegovina','U.A.E.','C?te d`Ivoire','Trinidad & Tobago'],\n",
    "                                ['Czechia','Northern Ireland','Ireland','Bosnia and Herzegovina','United Arab Emirates','Ivory Coast','Trinidad and Tobago'])\n",
    "\n",
    "Match_data['Away_Team']=Match_data['Away_Team'].replace(['Czech Republic','North. Ireland','Rep. of Ireland','Bosnia & Herzegovina','U.A.E.','C?te d`Ivoire','Trinidad & Tobago','Romana','Rep. Of Ireland'],\n",
    "                                ['Czechia','Northern Ireland','Ireland','Bosnia and Herzegovina','United Arab Emirates','Ivory Coast','Trinidad and Tobago','Romania','Ireland'])"
   ]
  },
  {
   "cell_type": "code",
   "execution_count": 85,
   "metadata": {},
   "outputs": [],
   "source": [
    "for i in range(len(Match_data)):## Adding ELO rating,1_Year_change-goals,1_Year_change-goalsa,Goals Difference,Win/loss ratio to match data\n",
    "    home=Match_data['Home_Team'].iloc[i]\n",
    "    away=Match_data['Away_Team'].iloc[i]\n",
    "    year=Match_data['Year'].iloc[i]\n",
    "    \n",
    "    homeR=df[(df['Team']==home) & (df['Year']==year)]['R']\n",
    "    awayR=df[(df['Team']==away) & (df['Year']==year)]['R']\n",
    "    homeg=df[(df['Team']==home) & (df['Year']==year)]['1_Year_change-goals']\n",
    "    awayg=df[(df['Team']==away) & (df['Year']==year)]['1_Year_change-goals']\n",
    "    homelg=df[(df['Team']==home) & (df['Year']==year)]['1_Year_change-goalsa']\n",
    "    awaylg=df[(df['Team']==away) & (df['Year']==year)]['1_Year_change-goalsa']\n",
    "    goalsdiffhome=df[(df['Team']==home) & (df['Year']==year)]['Goals Difference']\n",
    "    goalsdiffaway=df[(df['Team']==away) & (df['Year']==year)]['Goals Difference']\n",
    "    winlosth=df[(df['Team']==home) & (df['Year']==year)]['Win/loss ratio']\n",
    "    winlosta=df[(df['Team']==away) & (df['Year']==year)]['Win/loss ratio']\n",
    "\n",
    "    \n",
    "    Match_data.loc[i,'Home_Elo rating']=homeR.values\n",
    "    Match_data.loc[i,'Away_Elo rating']=awayR.values\n",
    "    Match_data.loc[i,'1_Year_change-goals-home']=homeg.values\n",
    "    Match_data.loc[i,'1_Year_change-goals-away']=awayg.values\n",
    "    Match_data.loc[i,'1_Year_change-lost_goals-home']=homelg.values\n",
    "    Match_data.loc[i,'1_Year_change-lost_goals-away']=awaylg.values\n",
    "    Match_data.loc[i,'Goals_diff_home']=goalsdiffhome.values\n",
    "    Match_data.loc[i,'Goals_diff_away']=goalsdiffaway.values\n",
    "    Match_data.loc[i,'Win/loss ratio-home_team']=winlosth.values\n",
    "    Match_data.loc[i,'Win/loss ratio-away_team']=winlosta.values\n",
    "   "
   ]
  },
  {
   "cell_type": "code",
   "execution_count": 32,
   "metadata": {},
   "outputs": [],
   "source": [
    "gdp=pd.read_excel('GDP.xlsx')"
   ]
  },
  {
   "cell_type": "code",
   "execution_count": 88,
   "metadata": {},
   "outputs": [],
   "source": [
    "for i in range(len(Match_data)):## Adding GDP  to match data\n",
    "    \n",
    "    home=Match_data['Home_Team'].iloc[i]\n",
    "    away=Match_data['Away_Team'].iloc[i]\n",
    "    year=str(Match_data['Year'].iloc[i])\n",
    "    homeGDP=gdp[gdp['Country Name']==home][year]\n",
    "    awayGDP=gdp[gdp['Country Name']==away][year]\n",
    "    if not gdp[gdp['Country Name']==home][year].empty:\n",
    "        Match_data.loc[i,'Home_GDP']=homeGDP.values\n",
    "       \n",
    "    if not gdp[gdp['Country Name']==away][year].empty:\n",
    "        Match_data.loc[i,'Away_GDP']=awayGDP.values\n",
    "        \n",
    "    "
   ]
  },
  {
   "cell_type": "code",
   "execution_count": 4,
   "metadata": {},
   "outputs": [
    {
     "data": {
      "text/plain": [
       "4.39297124600639"
      ]
     },
     "execution_count": 4,
     "metadata": {},
     "output_type": "execute_result"
    }
   ],
   "source": [
    "Match_data['Home_GDP'].isna().sum()/Match_data.shape[0]*100 ##percantege of nill values in Home GDP"
   ]
  },
  {
   "cell_type": "code",
   "execution_count": 17,
   "metadata": {},
   "outputs": [],
   "source": [
    "Match_data['Home_GDP']=Match_data['Home_GDP'].fillna(Match_data['Home_GDP'].mean())##filling nill GDP with mean\n",
    "Match_data['Away_GDP']=Match_data['Away_GDP'].fillna(Match_data['Away_GDP'].mean())"
   ]
  },
  {
   "cell_type": "code",
   "execution_count": 6,
   "metadata": {},
   "outputs": [
    {
     "data": {
      "text/plain": [
       "0"
      ]
     },
     "execution_count": 6,
     "metadata": {},
     "output_type": "execute_result"
    }
   ],
   "source": [
    "Match_data['Home_GDP'].isna().sum()"
   ]
  },
  {
   "cell_type": "code",
   "execution_count": 55,
   "metadata": {},
   "outputs": [],
   "source": [
    "##adding win/loss/draw based on result\n",
    "Match_data['Result']=Match_data[['Home_score','Away_Score']].apply(result,axis=1)"
   ]
  },
  {
   "cell_type": "code",
   "execution_count": 591,
   "metadata": {},
   "outputs": [],
   "source": [
    "###adding 1-win team A,0-draw,2-win team B \n",
    "Match_data['Y']=Match_data['Result'].apply(result1)\n"
   ]
  },
  {
   "cell_type": "code",
   "execution_count": 11,
   "metadata": {},
   "outputs": [],
   "source": [
    "\n",
    "### Creating Exogenous variables data frame#\n",
    "X=Match_data[['FIFA_Points_Home','FIFA_Points_Away','Home_Elo rating','Away_Elo rating','1_Year_change-wins_home','1_Year_change-wins_away','1_Year_change-loss_home','1_Year_change-loss_away','1_Year_change-goals-home','1_Year_change-goals-away','1_Year_change-lost_goals-home','1_Year_change-lost_goals-away']]"
   ]
  },
  {
   "cell_type": "code",
   "execution_count": 57,
   "metadata": {},
   "outputs": [],
   "source": [
    "##Creating endogenous variable\n",
    "\n",
    "y=Match_data['Y']\n",
    "\n"
   ]
  },
  {
   "cell_type": "code",
   "execution_count": 14,
   "metadata": {},
   "outputs": [],
   "source": [
    "## Normalizing FIFA and ELO rating points\n",
    "X_to_normalize=X[['FIFA_Points_Home','FIFA_Points_Away','Home_Elo rating','Away_Elo rating']]\n",
    "X_without_normalize=X[['1_Year_change-wins_home','1_Year_change-wins_away','1_Year_change-loss_home','1_Year_change-loss_away','1_Year_change-goals-home','1_Year_change-goals-away','1_Year_change-lost_goals-home','1_Year_change-lost_goals-away']]\n",
    "scale=MinMaxScaler()\n",
    "X_norm=pd.DataFrame(scale.fit_transform(X_to_normalize),\n",
    "\n",
    "columns=X_to_normalize.columns, index=X_to_normalize.index)\n",
    "\n",
    "X=pd.concat([X_norm,X_without_normalize],axis=1)"
   ]
  },
  {
   "cell_type": "code",
   "execution_count": 6,
   "metadata": {},
   "outputs": [],
   "source": [
    "## creating model to check which variables are irrelevant\n",
    "model = sm.Logit(y, X)"
   ]
  },
  {
   "cell_type": "code",
   "execution_count": 7,
   "metadata": {},
   "outputs": [
    {
     "name": "stdout",
     "output_type": "stream",
     "text": [
      "Optimization terminated successfully.\n",
      "         Current function value: 0.527708\n",
      "         Iterations 6\n"
     ]
    }
   ],
   "source": [
    "result = model.fit(method='newton')"
   ]
  },
  {
   "cell_type": "code",
   "execution_count": 8,
   "metadata": {},
   "outputs": [
    {
     "data": {
      "text/plain": [
       "FIFA_Points_Home                 1.430091e+00\n",
       "FIFA_Points_Away                -1.924771e+00\n",
       "Home_Elo rating                  4.962254e+00\n",
       "Away_Elo rating                 -4.753621e+00\n",
       "1_Year_change-wins_home         -2.234374e-02\n",
       "1_Year_change-wins_away          1.718170e-01\n",
       "1_Year_change-loss_home          5.703322e-02\n",
       "1_Year_change-loss_away         -8.860534e-02\n",
       "1_Year_change-goals-home         6.874655e-03\n",
       "1_Year_change-goals-away        -3.555396e-02\n",
       "1_Year_change-lost_goals-home   -1.536496e-02\n",
       "1_Year_change-lost_goals-away    2.667595e-02\n",
       "Home_GDP                         1.014396e-06\n",
       "Away_GDP                         8.336302e-07\n",
       "Win/loss ratio-home_team        -1.705659e-01\n",
       "Win/loss ratio-away_team        -9.351992e-01\n",
       "dtype: float64"
      ]
     },
     "execution_count": 8,
     "metadata": {},
     "output_type": "execute_result"
    }
   ],
   "source": [
    "result.params"
   ]
  },
  {
   "cell_type": "code",
   "execution_count": 9,
   "metadata": {},
   "outputs": [
    {
     "data": {
      "text/html": [
       "<table class=\"simpletable\">\n",
       "<caption>Logit Regression Results</caption>\n",
       "<tr>\n",
       "  <th>Dep. Variable:</th>        <td>Result4</td>     <th>  No. Observations:  </th>   <td>  2496</td>  \n",
       "</tr>\n",
       "<tr>\n",
       "  <th>Model:</th>                 <td>Logit</td>      <th>  Df Residuals:      </th>   <td>  2480</td>  \n",
       "</tr>\n",
       "<tr>\n",
       "  <th>Method:</th>                 <td>MLE</td>       <th>  Df Model:          </th>   <td>    15</td>  \n",
       "</tr>\n",
       "<tr>\n",
       "  <th>Date:</th>            <td>Sun, 13 Jun 2021</td> <th>  Pseudo R-squ.:     </th>   <td>0.2311</td>  \n",
       "</tr>\n",
       "<tr>\n",
       "  <th>Time:</th>                <td>14:34:30</td>     <th>  Log-Likelihood:    </th>  <td> -1317.2</td> \n",
       "</tr>\n",
       "<tr>\n",
       "  <th>converged:</th>             <td>True</td>       <th>  LL-Null:           </th>  <td> -1713.0</td> \n",
       "</tr>\n",
       "<tr>\n",
       "  <th>Covariance Type:</th>     <td>nonrobust</td>    <th>  LLR p-value:       </th> <td>5.218e-159</td>\n",
       "</tr>\n",
       "</table>\n",
       "<table class=\"simpletable\">\n",
       "<tr>\n",
       "                <td></td>                   <th>coef</th>     <th>std err</th>      <th>z</th>      <th>P>|z|</th>  <th>[0.025</th>    <th>0.975]</th>  \n",
       "</tr>\n",
       "<tr>\n",
       "  <th>FIFA_Points_Home</th>              <td>    1.4301</td> <td>    0.365</td> <td>    3.919</td> <td> 0.000</td> <td>    0.715</td> <td>    2.145</td>\n",
       "</tr>\n",
       "<tr>\n",
       "  <th>FIFA_Points_Away</th>              <td>   -1.9248</td> <td>    0.370</td> <td>   -5.198</td> <td> 0.000</td> <td>   -2.651</td> <td>   -1.199</td>\n",
       "</tr>\n",
       "<tr>\n",
       "  <th>Home_Elo rating</th>               <td>    4.9623</td> <td>    0.611</td> <td>    8.127</td> <td> 0.000</td> <td>    3.765</td> <td>    6.159</td>\n",
       "</tr>\n",
       "<tr>\n",
       "  <th>Away_Elo rating</th>               <td>   -4.7536</td> <td>    0.616</td> <td>   -7.715</td> <td> 0.000</td> <td>   -5.961</td> <td>   -3.546</td>\n",
       "</tr>\n",
       "<tr>\n",
       "  <th>1_Year_change-wins_home</th>       <td>   -0.0223</td> <td>    0.048</td> <td>   -0.466</td> <td> 0.642</td> <td>   -0.116</td> <td>    0.072</td>\n",
       "</tr>\n",
       "<tr>\n",
       "  <th>1_Year_change-wins_away</th>       <td>    0.1718</td> <td>    0.050</td> <td>    3.449</td> <td> 0.001</td> <td>    0.074</td> <td>    0.269</td>\n",
       "</tr>\n",
       "<tr>\n",
       "  <th>1_Year_change-loss_home</th>       <td>    0.0570</td> <td>    0.056</td> <td>    1.012</td> <td> 0.312</td> <td>   -0.053</td> <td>    0.168</td>\n",
       "</tr>\n",
       "<tr>\n",
       "  <th>1_Year_change-loss_away</th>       <td>   -0.0886</td> <td>    0.059</td> <td>   -1.514</td> <td> 0.130</td> <td>   -0.203</td> <td>    0.026</td>\n",
       "</tr>\n",
       "<tr>\n",
       "  <th>1_Year_change-goals-home</th>      <td>    0.0069</td> <td>    0.014</td> <td>    0.479</td> <td> 0.632</td> <td>   -0.021</td> <td>    0.035</td>\n",
       "</tr>\n",
       "<tr>\n",
       "  <th>1_Year_change-goals-away</th>      <td>   -0.0356</td> <td>    0.015</td> <td>   -2.336</td> <td> 0.019</td> <td>   -0.065</td> <td>   -0.006</td>\n",
       "</tr>\n",
       "<tr>\n",
       "  <th>1_Year_change-lost_goals-home</th> <td>   -0.0154</td> <td>    0.017</td> <td>   -0.909</td> <td> 0.363</td> <td>   -0.048</td> <td>    0.018</td>\n",
       "</tr>\n",
       "<tr>\n",
       "  <th>1_Year_change-lost_goals-away</th> <td>    0.0267</td> <td>    0.018</td> <td>    1.521</td> <td> 0.128</td> <td>   -0.008</td> <td>    0.061</td>\n",
       "</tr>\n",
       "<tr>\n",
       "  <th>Home_GDP</th>                      <td> 1.014e-06</td> <td> 1.94e-06</td> <td>    0.522</td> <td> 0.601</td> <td>-2.79e-06</td> <td> 4.82e-06</td>\n",
       "</tr>\n",
       "<tr>\n",
       "  <th>Away_GDP</th>                      <td> 8.336e-07</td> <td> 1.91e-06</td> <td>    0.437</td> <td> 0.662</td> <td> -2.9e-06</td> <td> 4.57e-06</td>\n",
       "</tr>\n",
       "<tr>\n",
       "  <th>Win/loss ratio-home_team</th>      <td>   -0.1706</td> <td>    0.578</td> <td>   -0.295</td> <td> 0.768</td> <td>   -1.304</td> <td>    0.963</td>\n",
       "</tr>\n",
       "<tr>\n",
       "  <th>Win/loss ratio-away_team</th>      <td>   -0.9352</td> <td>    0.587</td> <td>   -1.592</td> <td> 0.111</td> <td>   -2.087</td> <td>    0.216</td>\n",
       "</tr>\n",
       "</table>"
      ],
      "text/plain": [
       "<class 'statsmodels.iolib.summary.Summary'>\n",
       "\"\"\"\n",
       "                           Logit Regression Results                           \n",
       "==============================================================================\n",
       "Dep. Variable:                Result4   No. Observations:                 2496\n",
       "Model:                          Logit   Df Residuals:                     2480\n",
       "Method:                           MLE   Df Model:                           15\n",
       "Date:                Sun, 13 Jun 2021   Pseudo R-squ.:                  0.2311\n",
       "Time:                        14:34:30   Log-Likelihood:                -1317.2\n",
       "converged:                       True   LL-Null:                       -1713.0\n",
       "Covariance Type:            nonrobust   LLR p-value:                5.218e-159\n",
       "=================================================================================================\n",
       "                                    coef    std err          z      P>|z|      [0.025      0.975]\n",
       "-------------------------------------------------------------------------------------------------\n",
       "FIFA_Points_Home                  1.4301      0.365      3.919      0.000       0.715       2.145\n",
       "FIFA_Points_Away                 -1.9248      0.370     -5.198      0.000      -2.651      -1.199\n",
       "Home_Elo rating                   4.9623      0.611      8.127      0.000       3.765       6.159\n",
       "Away_Elo rating                  -4.7536      0.616     -7.715      0.000      -5.961      -3.546\n",
       "1_Year_change-wins_home          -0.0223      0.048     -0.466      0.642      -0.116       0.072\n",
       "1_Year_change-wins_away           0.1718      0.050      3.449      0.001       0.074       0.269\n",
       "1_Year_change-loss_home           0.0570      0.056      1.012      0.312      -0.053       0.168\n",
       "1_Year_change-loss_away          -0.0886      0.059     -1.514      0.130      -0.203       0.026\n",
       "1_Year_change-goals-home          0.0069      0.014      0.479      0.632      -0.021       0.035\n",
       "1_Year_change-goals-away         -0.0356      0.015     -2.336      0.019      -0.065      -0.006\n",
       "1_Year_change-lost_goals-home    -0.0154      0.017     -0.909      0.363      -0.048       0.018\n",
       "1_Year_change-lost_goals-away     0.0267      0.018      1.521      0.128      -0.008       0.061\n",
       "Home_GDP                       1.014e-06   1.94e-06      0.522      0.601   -2.79e-06    4.82e-06\n",
       "Away_GDP                       8.336e-07   1.91e-06      0.437      0.662    -2.9e-06    4.57e-06\n",
       "Win/loss ratio-home_team         -0.1706      0.578     -0.295      0.768      -1.304       0.963\n",
       "Win/loss ratio-away_team         -0.9352      0.587     -1.592      0.111      -2.087       0.216\n",
       "=================================================================================================\n",
       "\"\"\""
      ]
     },
     "execution_count": 9,
     "metadata": {},
     "output_type": "execute_result"
    }
   ],
   "source": [
    "result.summary()"
   ]
  },
  {
   "cell_type": "code",
   "execution_count": 15,
   "metadata": {},
   "outputs": [],
   "source": [
    "## creating function that evaluates optimal l2 penalty value\n",
    "def get_models():\n",
    "    models = dict()\n",
    "    for p in [0.0, 0.0001, 0.001, 0.01, 0.1, 1.0]:\n",
    "        \n",
    "        key = '%.4f' % p\n",
    "      \n",
    "        if p == 0.0:\n",
    "            # no penalty in this case\n",
    "            models[key] = LogisticRegression(multi_class='multinomial', solver='lbfgs', penalty='none')\n",
    "        else:\n",
    "            models[key] = LogisticRegression(multi_class='multinomial', solver='lbfgs', penalty='l2', C=p)\n",
    "    return models"
   ]
  },
  {
   "cell_type": "code",
   "execution_count": 16,
   "metadata": {},
   "outputs": [],
   "source": [
    "models = get_models()\n",
    "results, names = list(), list()\n",
    "\n",
    "def evaluate_model(model, X, y):\n",
    "    # define the evaluation procedure\n",
    "    cv = RepeatedStratifiedKFold(n_splits=10, n_repeats=3, random_state=1)\n",
    "    # evaluate the model\n",
    "    scores = cross_val_score(model, X, y, scoring='accuracy', cv=cv, n_jobs=-1)\n",
    "    return scores"
   ]
  },
  {
   "cell_type": "code",
   "execution_count": 17,
   "metadata": {},
   "outputs": [
    {
     "name": "stdout",
     "output_type": "stream",
     "text": [
      ">0.0000 0.591 (0.023)\n",
      ">0.0001 0.545 (0.027)\n",
      ">0.0010 0.547 (0.028)\n",
      ">0.0100 0.559 (0.029)\n",
      ">0.1000 0.585 (0.019)\n",
      ">1.0000 0.589 (0.022)\n"
     ]
    },
    {
     "data": {
      "image/png": "[encoded data removed]",
      "text/plain": [
       "<Figure size 432x288 with 1 Axes>"
      ]
     },
     "metadata": {
      "needs_background": "light"
     },
     "output_type": "display_data"
    }
   ],
   "source": [
    "for name, model in models.items():\n",
    "    # evaluate the model and collect the scores\n",
    "    scores = evaluate_model(model, X, y)\n",
    "    # store the results\n",
    "    results.append(scores)\n",
    "    names.append(name)\n",
    "    # summarize progress along the way\n",
    "    print('>%s %.3f (%.3f)' % (name, np.mean(scores), np.std(scores)))\n",
    "# plot model performance for comparison\n",
    "plt.boxplot(results, labels=names, showmeans=True)\n",
    "plt.show()\n",
    "#Below charts shows that best solution for model will be not using L2 penalty at all."
   ]
  },
  {
   "cell_type": "code",
   "execution_count": 60,
   "metadata": {},
   "outputs": [
    {
     "data": {
      "text/plain": [
       "LogisticRegression(C=1.0, class_weight=None, dual=False, fit_intercept=True,\n",
       "                   intercept_scaling=1, l1_ratio=None, max_iter=1000,\n",
       "                   multi_class='multinomial', n_jobs=None, penalty='none',\n",
       "                   random_state=None, solver='lbfgs', tol=0.0001, verbose=0,\n",
       "                   warm_start=False)"
      ]
     },
     "execution_count": 60,
     "metadata": {},
     "output_type": "execute_result"
    }
   ],
   "source": [
    "X_train, X_test, y_train, y_test = train_test_split(X, y, test_size=0.3, random_state=101)\n",
    "model=LogisticRegression(multi_class='multinomial', solver='lbfgs', penalty='none',max_iter=1000)\n",
    "model.fit(X_train, y_train)\n"
   ]
  },
  {
   "cell_type": "code",
   "execution_count": 61,
   "metadata": {},
   "outputs": [],
   "source": [
    "predictions=model.predict(X_test)"
   ]
  },
  {
   "cell_type": "code",
   "execution_count": 62,
   "metadata": {},
   "outputs": [
    {
     "name": "stdout",
     "output_type": "stream",
     "text": [
      "              precision    recall  f1-score   support\n",
      "\n",
      "           0       0.83      0.03      0.06       163\n",
      "           1       0.63      0.82      0.71       325\n",
      "           2       0.61      0.74      0.67       261\n",
      "\n",
      "    accuracy                           0.62       749\n",
      "   macro avg       0.69      0.53      0.48       749\n",
      "weighted avg       0.67      0.62      0.55       749\n",
      "\n"
     ]
    }
   ],
   "source": [
    "print(classification_report(y_test,predictions))"
   ]
  },
  {
   "cell_type": "code",
   "execution_count": 63,
   "metadata": {},
   "outputs": [
    {
     "data": {
      "text/plain": [
       "array([[  5,  90,  68],\n",
       "       [  1, 267,  57],\n",
       "       [  0,  68, 193]], dtype=int64)"
      ]
     },
     "execution_count": 63,
     "metadata": {},
     "output_type": "execute_result"
    }
   ],
   "source": [
    "confusion_matrix(y_test,predictions)## rows are actual values, columns predicted"
   ]
  },
  {
   "cell_type": "code",
   "execution_count": 64,
   "metadata": {},
   "outputs": [
    {
     "data": {
      "text/plain": [
       "0.5809959931310819"
      ]
     },
     "execution_count": 64,
     "metadata": {},
     "output_type": "execute_result"
    }
   ],
   "source": [
    "model.score(X_train,y_train)"
   ]
  },
  {
   "cell_type": "code",
   "execution_count": 124,
   "metadata": {},
   "outputs": [],
   "source": [
    "logr_probs=model.predict_proba(X_test)"
   ]
  },
  {
   "cell_type": "code",
   "execution_count": 125,
   "metadata": {},
   "outputs": [],
   "source": [
    "logr_probs0 = lr_probs[:,0]\n",
    "logr_probs1=lr_probs[:,1]\n",
    "logr_probs2=lr_probs[:,2]"
   ]
  },
  {
   "cell_type": "code",
   "execution_count": 126,
   "metadata": {},
   "outputs": [],
   "source": [
    "precision0, recall0, _ = skm.precision_recall_curve(y_test,logr_probs0,pos_label=0)\n",
    "precision1, recall1, _ = skm.precision_recall_curve(y_test,logr_probs1,pos_label=1)\n",
    "precision2, recall2, _ = skm.precision_recall_curve(y_test,logr_probs2,pos_label=2)"
   ]
  },
  {
   "cell_type": "code",
   "execution_count": 127,
   "metadata": {
    "scrolled": true
   },
   "outputs": [
    {
     "data": {
      "image/png": "[encoded data removed]",
      "text/plain": [
       "<Figure size 720x432 with 1 Axes>"
      ]
     },
     "metadata": {
      "needs_background": "light"
     },
     "output_type": "display_data"
    }
   ],
   "source": [
    "plt.figure(figsize=(10,6))\n",
    "plt.plot(recall1, precision1,'b', label='class 1',linestyle='--',marker='.')\n",
    "plt.plot(recall2, precision2,'r', label='class 2',linestyle='--',marker='.')\n",
    "plt.plot(recall0, precision0,'g', label='class 0',linestyle='--',marker='.')\n",
    "plt.xlabel('Recall')\n",
    "plt.ylabel('Precision')\n",
    "plt.legend(loc='best')\n",
    "plt.title(\"Precision-Recall curve\")\n",
    "plt.show()"
   ]
  },
  {
   "cell_type": "code",
   "execution_count": 128,
   "metadata": {},
   "outputs": [],
   "source": [
    "logr_fpr1, logr_tpr1, _ = roc_curve(y_test, logr_probs1,pos_label=1)\n",
    "logr_fpr2, logr_tpr2, _ = roc_curve(y_test, logr_probs2,pos_label=2)\n",
    "logr_fpr0, logr_tpr0, _ = roc_curve(y_test, logr_probs2,pos_label=0)"
   ]
  },
  {
   "cell_type": "code",
   "execution_count": 129,
   "metadata": {},
   "outputs": [
    {
     "data": {
      "image/png": "[encoded data removed]",
      "text/plain": [
       "<Figure size 720x432 with 1 Axes>"
      ]
     },
     "metadata": {
      "needs_background": "light"
     },
     "output_type": "display_data"
    }
   ],
   "source": [
    "plt.figure(figsize=(10,6))\n",
    "plt.plot(logr_fpr1, logr_tpr1,'r', label='class 1',linestyle='--',marker='.')\n",
    "plt.plot(logr_fpr2, logr_tpr2,'b', label='class 2',linestyle='--',marker='.')\n",
    "plt.plot(logr_fpr0, logr_tpr0,'g', label='class 0',linestyle='--',marker='.')\n",
    "plt.xlabel('False Positive Rate')\n",
    "plt.ylabel('True Positive Rate')\n",
    "plt.legend(loc='best')\n",
    "plt.title(\"ROC curve\")\n",
    "plt.show()"
   ]
  },
  {
   "cell_type": "code",
   "execution_count": 130,
   "metadata": {},
   "outputs": [
    {
     "name": "stdout",
     "output_type": "stream",
     "text": [
      "AUC-label 0: 0.3057983748136651 \n",
      " AUC-label 1: 0.7612392243803298 \n",
      " AUC-label 1: 0.7510054575547354\n"
     ]
    }
   ],
   "source": [
    "logr_auc0=auc(recall0, precision0)\n",
    "logr_auc1=auc(recall1, precision1)\n",
    "logr_auc2=auc(recall2, precision2)\n",
    "print('AUC-label 0:',lr_auc0,'\\n','AUC-label 1:',lr_auc1,'\\n','AUC-label 1:',lr_auc2)"
   ]
  },
  {
   "cell_type": "code",
   "execution_count": 114,
   "metadata": {},
   "outputs": [],
   "source": [
    "## predicting Euro 2020 games results\n",
    "data_to_predict1=pd.read_excel(\"data_to_predict1.xlsx\")"
   ]
  },
  {
   "cell_type": "code",
   "execution_count": 115,
   "metadata": {},
   "outputs": [],
   "source": [
    "predict_data_normalize=data_to_predict1[['FIFA_Points_Home','FIFA_Points_Away','Home_Elo rating','Away_Elo rating']]\n",
    "predict_data_without_normalize=data_to_predict1[['1_Year_change-wins_home','1_Year_change-wins_away','1_Year_change-loss_home','1_Year_change-loss_away','1_Year_change-goals-home','1_Year_change-goals-away','1_Year_change-lost_goals-home','1_Year_change-lost_goals-away']]"
   ]
  },
  {
   "cell_type": "code",
   "execution_count": 116,
   "metadata": {},
   "outputs": [],
   "source": [
    "X_norm=pd.DataFrame(scale.fit_transform(predict_data_normalize),\n",
    "\n",
    "columns=predict_data_normalize.columns, index=predict_data_normalize.index)"
   ]
  },
  {
   "cell_type": "code",
   "execution_count": 117,
   "metadata": {},
   "outputs": [],
   "source": [
    "X_to_predict=pd.concat([X_norm,predict_data_without_normalize],axis=1)"
   ]
  },
  {
   "cell_type": "code",
   "execution_count": 118,
   "metadata": {},
   "outputs": [
    {
     "data": {
      "text/html": [
       "<div>\n",
       "<style scoped>\n",
       "    .dataframe tbody tr th:only-of-type {\n",
       "        vertical-align: middle;\n",
       "    }\n",
       "\n",
       "    .dataframe tbody tr th {\n",
       "        vertical-align: top;\n",
       "    }\n",
       "\n",
       "    .dataframe thead th {\n",
       "        text-align: right;\n",
       "    }\n",
       "</style>\n",
       "<table border=\"1\" class=\"dataframe\">\n",
       "  <thead>\n",
       "    <tr style=\"text-align: right;\">\n",
       "      <th></th>\n",
       "      <th>FIFA_Points_Home</th>\n",
       "      <th>FIFA_Points_Away</th>\n",
       "      <th>Home_Elo rating</th>\n",
       "      <th>Away_Elo rating</th>\n",
       "      <th>1_Year_change-wins_home</th>\n",
       "      <th>1_Year_change-wins_away</th>\n",
       "      <th>1_Year_change-loss_home</th>\n",
       "      <th>1_Year_change-loss_away</th>\n",
       "      <th>1_Year_change-goals-home</th>\n",
       "      <th>1_Year_change-goals-away</th>\n",
       "      <th>1_Year_change-lost_goals-home</th>\n",
       "      <th>1_Year_change-lost_goals-away</th>\n",
       "    </tr>\n",
       "  </thead>\n",
       "  <tbody>\n",
       "    <tr>\n",
       "      <th>0</th>\n",
       "      <td>0.320293</td>\n",
       "      <td>0.655257</td>\n",
       "      <td>0.339483</td>\n",
       "      <td>0.791513</td>\n",
       "      <td>1</td>\n",
       "      <td>5</td>\n",
       "      <td>2</td>\n",
       "      <td>0</td>\n",
       "      <td>12</td>\n",
       "      <td>17</td>\n",
       "      <td>14</td>\n",
       "      <td>2</td>\n",
       "    </tr>\n",
       "    <tr>\n",
       "      <th>1</th>\n",
       "      <td>0.479218</td>\n",
       "      <td>0.567237</td>\n",
       "      <td>0.479705</td>\n",
       "      <td>0.557196</td>\n",
       "      <td>5</td>\n",
       "      <td>0</td>\n",
       "      <td>1</td>\n",
       "      <td>4</td>\n",
       "      <td>7</td>\n",
       "      <td>8</td>\n",
       "      <td>4</td>\n",
       "      <td>12</td>\n",
       "    </tr>\n",
       "    <tr>\n",
       "      <th>2</th>\n",
       "      <td>0.628362</td>\n",
       "      <td>0.088020</td>\n",
       "      <td>0.660517</td>\n",
       "      <td>0.258303</td>\n",
       "      <td>5</td>\n",
       "      <td>5</td>\n",
       "      <td>2</td>\n",
       "      <td>3</td>\n",
       "      <td>14</td>\n",
       "      <td>10</td>\n",
       "      <td>7</td>\n",
       "      <td>10</td>\n",
       "    </tr>\n",
       "    <tr>\n",
       "      <th>3</th>\n",
       "      <td>1.000000</td>\n",
       "      <td>0.215159</td>\n",
       "      <td>1.000000</td>\n",
       "      <td>0.321033</td>\n",
       "      <td>6</td>\n",
       "      <td>2</td>\n",
       "      <td>1</td>\n",
       "      <td>3</td>\n",
       "      <td>19</td>\n",
       "      <td>10</td>\n",
       "      <td>8</td>\n",
       "      <td>14</td>\n",
       "    </tr>\n",
       "    <tr>\n",
       "      <th>4</th>\n",
       "      <td>0.762836</td>\n",
       "      <td>0.564792</td>\n",
       "      <td>0.725092</td>\n",
       "      <td>0.536900</td>\n",
       "      <td>5</td>\n",
       "      <td>2</td>\n",
       "      <td>2</td>\n",
       "      <td>5</td>\n",
       "      <td>13</td>\n",
       "      <td>14</td>\n",
       "      <td>4</td>\n",
       "      <td>20</td>\n",
       "    </tr>\n",
       "  </tbody>\n",
       "</table>\n",
       "</div>"
      ],
      "text/plain": [
       "   FIFA_Points_Home  FIFA_Points_Away  Home_Elo rating  Away_Elo rating  \\\n",
       "0          0.320293          0.655257         0.339483         0.791513   \n",
       "1          0.479218          0.567237         0.479705         0.557196   \n",
       "2          0.628362          0.088020         0.660517         0.258303   \n",
       "3          1.000000          0.215159         1.000000         0.321033   \n",
       "4          0.762836          0.564792         0.725092         0.536900   \n",
       "\n",
       "   1_Year_change-wins_home  1_Year_change-wins_away  1_Year_change-loss_home  \\\n",
       "0                        1                        5                        2   \n",
       "1                        5                        0                        1   \n",
       "2                        5                        5                        2   \n",
       "3                        6                        2                        1   \n",
       "4                        5                        2                        2   \n",
       "\n",
       "   1_Year_change-loss_away  1_Year_change-goals-home  \\\n",
       "0                        0                        12   \n",
       "1                        4                         7   \n",
       "2                        3                        14   \n",
       "3                        3                        19   \n",
       "4                        5                        13   \n",
       "\n",
       "   1_Year_change-goals-away  1_Year_change-lost_goals-home  \\\n",
       "0                        17                             14   \n",
       "1                         8                              4   \n",
       "2                        10                              7   \n",
       "3                        10                              8   \n",
       "4                        14                              4   \n",
       "\n",
       "   1_Year_change-lost_goals-away  \n",
       "0                              2  \n",
       "1                             12  \n",
       "2                             10  \n",
       "3                             14  \n",
       "4                             20  "
      ]
     },
     "execution_count": 118,
     "metadata": {},
     "output_type": "execute_result"
    }
   ],
   "source": [
    "X_to_predict.head()"
   ]
  },
  {
   "cell_type": "code",
   "execution_count": 119,
   "metadata": {},
   "outputs": [],
   "source": [
    "predictions=model.predict_proba(X_to_predict)"
   ]
  },
  {
   "cell_type": "code",
   "execution_count": 120,
   "metadata": {},
   "outputs": [],
   "source": [
    "Euro_predictions=pd.DataFrame(data=predictions, columns=['draw%','Team1-win%','Team2-win%']).round(decimals=3)"
   ]
  },
  {
   "cell_type": "code",
   "execution_count": 121,
   "metadata": {},
   "outputs": [],
   "source": [
    "Euro_predictions=Euro_predictions.apply(lambda x: x*100)"
   ]
  },
  {
   "cell_type": "code",
   "execution_count": 123,
   "metadata": {},
   "outputs": [],
   "source": [
    "Euro_predictions.to_excel('Euro_predictions1.xlsx')"
   ]
  },
  {
   "cell_type": "code",
   "execution_count": null,
   "metadata": {},
   "outputs": [],
   "source": []
  }
 ],
 "metadata": {
  "kernelspec": {
   "display_name": "Python 3",
   "language": "python",
   "name": "python3"
  },
  "language_info": {
   "codemirror_mode": {
    "name": "ipython",
    "version": 3
   },
   "file_extension": ".py",
   "mimetype": "text/x-python",
   "name": "python",
   "nbconvert_exporter": "python",
   "pygments_lexer": "ipython3",
   "version": "3.7.6"
  }
 },
 "nbformat": 4,
 "nbformat_minor": 4
}
