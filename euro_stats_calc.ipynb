{
 "cells": [
  {
   "cell_type": "code",
   "execution_count": 1,
   "metadata": {},
   "outputs": [],
   "source": [
    "import pandas as pd"
   ]
  },
  {
   "cell_type": "code",
   "execution_count": 74,
   "metadata": {},
   "outputs": [],
   "source": [
    "df=pd.read_excel('Euro_data.xlsx')\n",
    "data_to_predict1=pd.read_excel(\"data_to_predict1.xlsx\")"
   ]
  },
  {
   "cell_type": "code",
   "execution_count": 9,
   "metadata": {},
   "outputs": [],
   "source": [
    "list_of_tuples = [(\"Turkey\", \"Italy\"),(\"Wales\", \"Switzerland\"),(\"Denmark\", \"Finland\"),(\"Belgium\", \"Russia\"),\n",
    "                  (\"England\", \"Croatia\"),(\"Austria\", \"North Macedonia\"),(\"Netherlands\", \"Ukraine\"),(\"Scotland\", \"Czechia\"),(\"Poland\", \"Slovakia\"),\n",
    "                  (\"Spain\", \"Sweden\"),(\"Hungary\", \"Portugal\"),(\"France\", \"Germany\"),(\"Finland\", \"Russia\"),(\"Turkey\", \"Wales\"),\n",
    "                  (\"Italy\", \"Switzerland\"),(\"Ukraine\", \"North Macedonia\"),(\"Denmark\", \"Belgium\"),(\"Netherlands\", \"Austria\"),(\"Sweden\", \"Slovakia\"),(\"Croatia\", \"Czechia\"),\n",
    "                  (\"England\", \"Scotland\"),(\"Hungary\", \"France\"),(\"Portugal\", \"Germany\"),(\"Spain\", \"Poland\"),(\"Italy\", \"Wales\"),(\"Switzerland\", \"Turkey\"),(\"Ukraine\", \"Austria\"),\n",
    "                  (\"North Macedonia\", \"Netherlands\"),(\"Finland\", \"Belgium\"),(\"Russia\", \"Denmark\"),(\"Czechia\", \"England\"),(\"Croatia\", \"Scotland\"),(\"Sweden\", \"Poland\"),(\"Slovakia\", \"Spain\"),(\"Germany\", \"Hungary\"),(\"Portugal\", \"France\")]"
   ]
  },
  {
   "cell_type": "code",
   "execution_count": 42,
   "metadata": {},
   "outputs": [],
   "source": [
    "data_to_predict1=pd.DataFrame(columns=['Team1','Team2','FIFA_Points_Home','FIFA_Points_Away','Home_Elo rating','Away_Elo rating','1_Year_change-wins_home','1_Year_change-wins_away','1_Year_change-loss_home','1_Year_change-loss_away','1_Year_change-goals-home','1_Year_change-goals-away','1_Year_change-lost_goals-home','1_Year_change-lost_goals-away'])"
   ]
  },
  {
   "cell_type": "code",
   "execution_count": 65,
   "metadata": {},
   "outputs": [],
   "source": [
    "for index, tuple in enumerate(list_of_tuples):\n",
    "    home_team = tuple[0]\n",
    "    away_team = tuple[1]\n",
    "    \n",
    "    fifa=df['Fifa_Ranking'][df['team']==home_team]\n",
    "    \n",
    "    \n",
    "    data_to_predict1.loc[index, 'Team1']=str(df[df['team']==home_team]['team'].values)\n",
    "    data_to_predict1.loc[index, 'Team2']=str(df[df['team']==away_team]['team'].values)\n",
    "    data_to_predict1.loc[index, 'FIFA_Points_Home']=int(df['Fifa_Ranking'][df['team']==home_team])\n",
    "    data_to_predict1.loc[index, 'FIFA_Points_Away']=int(df['Fifa_Ranking'][df['team']==away_team])\n",
    "    data_to_predict1.loc[index, 'Home_Elo rating']=int(df['R'][df['team']==home_team].values)\n",
    "    data_to_predict1.loc[index, 'Away_Elo rating']=int(df['R'][df['team']==away_team].values)\n",
    "    data_to_predict1.loc[index, '1_Year_change-wins_home']=int(df['1_Year_change-wins'][df['team']==home_team].values)\n",
    "    data_to_predict1.loc[index, '1_Year_change-wins_away']=int(df['1_Year_change-wins'][df['team']==away_team].values)\n",
    "    data_to_predict1.loc[index, '1_Year_change-loss_home']=int(df['1_Year_change-losses'][df['team']==home_team].values)\n",
    "    data_to_predict1.loc[index, '1_Year_change-loss_away']=int(df['1_Year_change-losses'][df['team']==away_team].values)\n",
    "    data_to_predict1.loc[index, '1_Year_change-goals-home']=int(df['1_Year_change-goals'][df['team']==home_team].values)\n",
    "    data_to_predict1.loc[index, '1_Year_change-goals-away']=int(df['1_Year_change-goals'][df['team']==away_team].values)\n",
    "    data_to_predict1.loc[index, '1_Year_change-lost_goals-home']=int(df['1_Year_change-lost_goals'][df['team']==home_team].values)\n",
    "    data_to_predict1.loc[index, '1_Year_change-lost_goals-away']=int(df['1_Year_change-lost_goals'][df['team']==away_team].values) \n",
    "    \n"
   ]
  },
  {
   "cell_type": "code",
   "execution_count": 73,
   "metadata": {},
   "outputs": [],
   "source": [
    "data_to_predict1.to_excel('data_to_predict1.xlsx')"
   ]
  },
  {
   "cell_type": "code",
   "execution_count": null,
   "metadata": {},
   "outputs": [],
   "source": []
  }
 ],
 "metadata": {
  "kernelspec": {
   "display_name": "Python 3",
   "language": "python",
   "name": "python3"
  },
  "language_info": {
   "codemirror_mode": {
    "name": "ipython",
    "version": 3
   },
   "file_extension": ".py",
   "mimetype": "text/x-python",
   "name": "python",
   "nbconvert_exporter": "python",
   "pygments_lexer": "ipython3",
   "version": "3.7.6"
  }
 },
 "nbformat": 4,
 "nbformat_minor": 4
}
